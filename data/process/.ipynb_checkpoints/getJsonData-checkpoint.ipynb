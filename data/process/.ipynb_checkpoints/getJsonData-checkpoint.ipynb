{
 "cells": [
  {
   "cell_type": "markdown",
   "metadata": {
    "collapsed": true
   },
   "source": [
    "## 将表数据转换为JSON数据"
   ]
  },
  {
   "cell_type": "code",
   "execution_count": 15,
   "metadata": {
    "pycharm": {
     "name": "#%%\n"
    }
   },
   "outputs": [],
   "source": [
    "# 导入包\n",
    "import time\n",
    "from datetime import datetime\n",
    "import pandas as pd\n",
    "import json"
   ]
  },
  {
   "cell_type": "code",
   "execution_count": 16,
   "metadata": {},
   "outputs": [
    {
     "data": {
      "text/html": [
       "<div>\n",
       "<style scoped>\n",
       "    .dataframe tbody tr th:only-of-type {\n",
       "        vertical-align: middle;\n",
       "    }\n",
       "\n",
       "    .dataframe tbody tr th {\n",
       "        vertical-align: top;\n",
       "    }\n",
       "\n",
       "    .dataframe thead th {\n",
       "        text-align: right;\n",
       "    }\n",
       "</style>\n",
       "<table border=\"1\" class=\"dataframe\">\n",
       "  <thead>\n",
       "    <tr style=\"text-align: right;\">\n",
       "      <th></th>\n",
       "      <th>name</th>\n",
       "      <th>level</th>\n",
       "      <th>sex</th>\n",
       "      <th>ctime</th>\n",
       "      <th>rcount</th>\n",
       "      <th>like</th>\n",
       "      <th>content</th>\n",
       "      <th>time</th>\n",
       "      <th>week</th>\n",
       "      <th>hour</th>\n",
       "    </tr>\n",
       "  </thead>\n",
       "  <tbody>\n",
       "    <tr>\n",
       "      <th>0</th>\n",
       "      <td>maglorthesinger</td>\n",
       "      <td>5.0</td>\n",
       "      <td>女</td>\n",
       "      <td>1.547896e+09</td>\n",
       "      <td>28.0</td>\n",
       "      <td>12962.0</td>\n",
       "      <td>传统媒体拥抱年轻人的成功案例(°∀°)ﾉ</td>\n",
       "      <td>2019-01-19 19:11:42</td>\n",
       "      <td>5</td>\n",
       "      <td>19</td>\n",
       "    </tr>\n",
       "    <tr>\n",
       "      <th>1</th>\n",
       "      <td>紗棠糖糖糖</td>\n",
       "      <td>6.0</td>\n",
       "      <td>女</td>\n",
       "      <td>1.547896e+09</td>\n",
       "      <td>16.0</td>\n",
       "      <td>4951.0</td>\n",
       "      <td>电视在放哈哈哈哈哈哈天嘞</td>\n",
       "      <td>2019-01-19 19:04:39</td>\n",
       "      <td>5</td>\n",
       "      <td>19</td>\n",
       "    </tr>\n",
       "    <tr>\n",
       "      <th>2</th>\n",
       "      <td>橙橙橙橙橙子</td>\n",
       "      <td>6.0</td>\n",
       "      <td>女</td>\n",
       "      <td>1.547896e+09</td>\n",
       "      <td>8.0</td>\n",
       "      <td>3143.0</td>\n",
       "      <td>配音小哥笑场了！扣钱！[蛆音娘_滑稽]</td>\n",
       "      <td>2019-01-19 19:11:44</td>\n",
       "      <td>5</td>\n",
       "      <td>19</td>\n",
       "    </tr>\n",
       "    <tr>\n",
       "      <th>3</th>\n",
       "      <td>共青团中央</td>\n",
       "      <td>6.0</td>\n",
       "      <td>保密</td>\n",
       "      <td>1.547903e+09</td>\n",
       "      <td>43.0</td>\n",
       "      <td>2155.0</td>\n",
       "      <td>我的快乐源泉[2233娘_喝水]</td>\n",
       "      <td>2019-01-19 21:08:46</td>\n",
       "      <td>5</td>\n",
       "      <td>21</td>\n",
       "    </tr>\n",
       "    <tr>\n",
       "      <th>4</th>\n",
       "      <td>吃素的狮子</td>\n",
       "      <td>6.0</td>\n",
       "      <td>男</td>\n",
       "      <td>1.547971e+09</td>\n",
       "      <td>44.0</td>\n",
       "      <td>1668.0</td>\n",
       "      <td>好想上一次1818黄金眼！</td>\n",
       "      <td>2019-01-20 15:49:13</td>\n",
       "      <td>6</td>\n",
       "      <td>15</td>\n",
       "    </tr>\n",
       "    <tr>\n",
       "      <th>...</th>\n",
       "      <td>...</td>\n",
       "      <td>...</td>\n",
       "      <td>...</td>\n",
       "      <td>...</td>\n",
       "      <td>...</td>\n",
       "      <td>...</td>\n",
       "      <td>...</td>\n",
       "      <td>...</td>\n",
       "      <td>...</td>\n",
       "      <td>...</td>\n",
       "    </tr>\n",
       "    <tr>\n",
       "      <th>1990</th>\n",
       "      <td>Loverainmaker</td>\n",
       "      <td>6.0</td>\n",
       "      <td>男</td>\n",
       "      <td>1.550319e+09</td>\n",
       "      <td>0.0</td>\n",
       "      <td>0.0</td>\n",
       "      <td>秀的我头皮发麻</td>\n",
       "      <td>2019-02-16 20:12:59</td>\n",
       "      <td>5</td>\n",
       "      <td>20</td>\n",
       "    </tr>\n",
       "    <tr>\n",
       "      <th>1991</th>\n",
       "      <td>高坚果Official</td>\n",
       "      <td>5.0</td>\n",
       "      <td>保密</td>\n",
       "      <td>1.550320e+09</td>\n",
       "      <td>0.0</td>\n",
       "      <td>0.0</td>\n",
       "      <td>@六小龄童</td>\n",
       "      <td>2019-02-16 20:20:38</td>\n",
       "      <td>5</td>\n",
       "      <td>20</td>\n",
       "    </tr>\n",
       "    <tr>\n",
       "      <th>1992</th>\n",
       "      <td>南洋术士</td>\n",
       "      <td>5.0</td>\n",
       "      <td>男</td>\n",
       "      <td>1.550319e+09</td>\n",
       "      <td>0.0</td>\n",
       "      <td>0.0</td>\n",
       "      <td>哈哈哈嗝</td>\n",
       "      <td>2019-02-16 20:14:56</td>\n",
       "      <td>5</td>\n",
       "      <td>20</td>\n",
       "    </tr>\n",
       "    <tr>\n",
       "      <th>1993</th>\n",
       "      <td>莫莫莫子若</td>\n",
       "      <td>6.0</td>\n",
       "      <td>女</td>\n",
       "      <td>1.550319e+09</td>\n",
       "      <td>0.0</td>\n",
       "      <td>0.0</td>\n",
       "      <td>哈哈哈哈哈哈哈哈哈哈哈</td>\n",
       "      <td>2019-02-16 20:10:09</td>\n",
       "      <td>5</td>\n",
       "      <td>20</td>\n",
       "    </tr>\n",
       "    <tr>\n",
       "      <th>1994</th>\n",
       "      <td>bili_13774951</td>\n",
       "      <td>6.0</td>\n",
       "      <td>男</td>\n",
       "      <td>1.550319e+09</td>\n",
       "      <td>0.0</td>\n",
       "      <td>0.0</td>\n",
       "      <td>不乱七八糟配bgm就好了 新闻形式的挺好的</td>\n",
       "      <td>2019-02-16 20:04:29</td>\n",
       "      <td>5</td>\n",
       "      <td>20</td>\n",
       "    </tr>\n",
       "  </tbody>\n",
       "</table>\n",
       "<p>1995 rows × 10 columns</p>\n",
       "</div>"
      ],
      "text/plain": [
       "                 name  level sex         ctime  rcount     like  \\\n",
       "0     maglorthesinger    5.0   女  1.547896e+09    28.0  12962.0   \n",
       "1               紗棠糖糖糖    6.0   女  1.547896e+09    16.0   4951.0   \n",
       "2              橙橙橙橙橙子    6.0   女  1.547896e+09     8.0   3143.0   \n",
       "3               共青团中央    6.0  保密  1.547903e+09    43.0   2155.0   \n",
       "4               吃素的狮子    6.0   男  1.547971e+09    44.0   1668.0   \n",
       "...               ...    ...  ..           ...     ...      ...   \n",
       "1990    Loverainmaker    6.0   男  1.550319e+09     0.0      0.0   \n",
       "1991      高坚果Official    5.0  保密  1.550320e+09     0.0      0.0   \n",
       "1992             南洋术士    5.0   男  1.550319e+09     0.0      0.0   \n",
       "1993            莫莫莫子若    6.0   女  1.550319e+09     0.0      0.0   \n",
       "1994    bili_13774951    6.0   男  1.550319e+09     0.0      0.0   \n",
       "\n",
       "                    content                 time  week  hour  \n",
       "0      传统媒体拥抱年轻人的成功案例(°∀°)ﾉ  2019-01-19 19:11:42     5    19  \n",
       "1              电视在放哈哈哈哈哈哈天嘞  2019-01-19 19:04:39     5    19  \n",
       "2       配音小哥笑场了！扣钱！[蛆音娘_滑稽]  2019-01-19 19:11:44     5    19  \n",
       "3          我的快乐源泉[2233娘_喝水]  2019-01-19 21:08:46     5    21  \n",
       "4             好想上一次1818黄金眼！  2019-01-20 15:49:13     6    15  \n",
       "...                     ...                  ...   ...   ...  \n",
       "1990                秀的我头皮发麻  2019-02-16 20:12:59     5    20  \n",
       "1991                  @六小龄童  2019-02-16 20:20:38     5    20  \n",
       "1992                   哈哈哈嗝  2019-02-16 20:14:56     5    20  \n",
       "1993            哈哈哈哈哈哈哈哈哈哈哈  2019-02-16 20:10:09     5    20  \n",
       "1994  不乱七八糟配bgm就好了 新闻形式的挺好的  2019-02-16 20:04:29     5    20  \n",
       "\n",
       "[1995 rows x 10 columns]"
      ]
     },
     "execution_count": 16,
     "metadata": {},
     "output_type": "execute_result"
    }
   ],
   "source": [
    "# 5集的评论\n",
    "cmt_df1 = pd.read_csv('../comments/1818-1.csv')\n",
    "cmt_df2 = pd.read_csv('../comments/1818-2.csv')\n",
    "cmt_df3 = pd.read_csv('../comments/1818-3.csv')\n",
    "cmt_df4 = pd.read_csv('../comments/1818-4.csv')\n",
    "cmt_df5 = pd.read_csv('../comments/1818-5.csv')\n",
    "\n",
    "\n",
    "# 总的评论\n",
    "cmt_df = pd.concat([cmt_df1,cmt_df2,cmt_df3,cmt_df4,cmt_df5],axis=0)\n",
    "\n",
    "cmt_df = cmt_df.dropna()\n",
    "\n",
    "# 时间戳转日期\n",
    "cmt_df['time'] = cmt_df['ctime'].map(lambda x:time.strftime('%Y-%m-%d %H:%M:%S',time.localtime(x)))\n",
    "\n",
    "# 得到星期数\n",
    "cmt_df['week'] = cmt_df['ctime'].map(lambda x:time.localtime(x).tm_wday)\n",
    "# 得到24小时\n",
    "cmt_df['hour'] = cmt_df['ctime'].map(lambda x:time.localtime(x).tm_hour)\n",
    "\n",
    "# 重新设置索引\n",
    "cmt_df.index = [i for i in range(len(cmt_df))]\n",
    "\n",
    "cmt_df"
   ]
  },
  {
   "cell_type": "code",
   "execution_count": 17,
   "metadata": {},
   "outputs": [
    {
     "data": {
      "text/plain": [
       "[1557, 1674, 657, 1026, 729, 6471, 5841]"
      ]
     },
     "execution_count": 17,
     "metadata": {},
     "output_type": "execute_result"
    }
   ],
   "source": [
    "# 按照星期分组\n",
    "x_week = ['星期一','星期二','星期三','星期四','星期五','星期六','星期七']\n",
    "y_week = list(cmt_df.groupby('week').count()['time'])\n",
    "y_week = list(i*9 for i in y_week)\n",
    "y_week"
   ]
  },
  {
   "cell_type": "code",
   "execution_count": 18,
   "metadata": {},
   "outputs": [
    {
     "data": {
      "text/plain": [
       "[936,\n",
       " 432,\n",
       " 387,\n",
       " 189,\n",
       " 72,\n",
       " 108,\n",
       " 108,\n",
       " 171,\n",
       " 306,\n",
       " 549,\n",
       " 360,\n",
       " 459,\n",
       " 594,\n",
       " 657,\n",
       " 729,\n",
       " 513,\n",
       " 522,\n",
       " 468,\n",
       " 666,\n",
       " 3348,\n",
       " 2043,\n",
       " 1494,\n",
       " 1575,\n",
       " 1269]"
      ]
     },
     "execution_count": 18,
     "metadata": {},
     "output_type": "execute_result"
    }
   ],
   "source": [
    "# 按照时间分组\n",
    "x_hour = list(range(24))\n",
    "y_hour = cmt_df.groupby('hour').count()['time']\n",
    "y_hour = list(i*9 for i in y_hour)\n",
    "\n",
    "# y_hour"
   ]
  },
  {
   "cell_type": "code",
   "execution_count": 23,
   "metadata": {},
   "outputs": [
    {
     "data": {
      "text/plain": [
       "[8694, 2349, 6912]"
      ]
     },
     "execution_count": 23,
     "metadata": {},
     "output_type": "execute_result"
    }
   ],
   "source": [
    "# 按照性别分组\n",
    "x_sex = ['保密','女','男']\n",
    "y_sex = cmt_df.groupby('sex').count()['time']\n",
    "y_sex = list(i*9 for i in y_sex)\n",
    "\n",
    "y_sex"
   ]
  },
  {
   "cell_type": "code",
   "execution_count": 27,
   "metadata": {},
   "outputs": [
    {
     "name": "stdout",
     "output_type": "stream",
     "text": [
      "[387, 135, 153, 54, 27, 54, 27, 63, 108, 189, 90, 135, 216, 207, 297, 153, 225, 126, 270, 1458, 864, 603, 558, 513]\n",
      "[90, 54, 63, 45, 9, 9, 27, 18, 63, 90, 36, 27, 72, 99, 108, 63, 90, 45, 108, 468, 234, 198, 198, 135]\n"
     ]
    }
   ],
   "source": [
    "# 不同性别观看时间段\n",
    "# 男\n",
    "y_male_hour = cmt_df[cmt_df['sex'] == '男'].groupby('hour').count()['time']\n",
    "y_male_hour = list(i*9 for i in y_male_hour)\n",
    "# 女\n",
    "y_female_hour = cmt_df[cmt_df['sex'] == '女'].groupby('hour').count()['time']\n",
    "y_female_hour = list(i*9 for i in y_female_hour)\n",
    "\n",
    "print(y_male_hour)\n",
    "print(y_female_hour)"
   ]
  },
  {
   "cell_type": "code",
   "execution_count": 20,
   "metadata": {},
   "outputs": [],
   "source": [
    "dict_data = {\n",
    "    'p1':{\n",
    "        'x_week': x_week,\n",
    "        'y_week': y_week,\n",
    "        'x_hour': x_hour,\n",
    "        'y_hour': y_hour,\n",
    "        'x_sex': x_sex,\n",
    "        'y_sex': y_sex,\n",
    "        'y_male_hour':y_male_hour,\n",
    "        'y_female_hour':y_female_hour\n",
    "    }\n",
    "}"
   ]
  },
  {
   "cell_type": "code",
   "execution_count": 21,
   "metadata": {},
   "outputs": [
    {
     "data": {
      "text/plain": [
       "'{\"p1\": {\"x_week\": [\"星期一\", \"星期二\", \"星期三\", \"星期四\", \"星期五\", \"星期六\", \"星期七\"], \"y_week\": [1557, 1674, 657, 1026, 729, 6471, 5841], \"x_hour\": [0, 1, 2, 3, 4, 5, 6, 7, 8, 9, 10, 11, 12, 13, 14, 15, 16, 17, 18, 19, 20, 21, 22, 23], \"y_hour\": [936, 432, 387, 189, 72, 108, 108, 171, 306, 549, 360, 459, 594, 657, 729, 513, 522, 468, 666, 3348, 2043, 1494, 1575, 1269]}}'"
      ]
     },
     "execution_count": 21,
     "metadata": {},
     "output_type": "execute_result"
    }
   ],
   "source": [
    "json_data = json.dumps(dict_data,ensure_ascii=False)\n",
    "\n",
    "with open('../json_data.json','w') as f:\n",
    "    f.write(json_data)\n",
    "\n",
    "json_data"
   ]
  },
  {
   "cell_type": "code",
   "execution_count": null,
   "metadata": {},
   "outputs": [],
   "source": []
  }
 ],
 "metadata": {
  "kernelspec": {
   "display_name": "Python 3",
   "language": "python",
   "name": "python3"
  },
  "language_info": {
   "codemirror_mode": {
    "name": "ipython",
    "version": 3
   },
   "file_extension": ".py",
   "mimetype": "text/x-python",
   "name": "python",
   "nbconvert_exporter": "python",
   "pygments_lexer": "ipython3",
   "version": "3.8.8"
  }
 },
 "nbformat": 4,
 "nbformat_minor": 1
}
